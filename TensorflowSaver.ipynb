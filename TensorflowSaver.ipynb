{
 "cells": [
  {
   "cell_type": "code",
   "execution_count": 1,
   "metadata": {
    "collapsed": true
   },
   "outputs": [],
   "source": [
    "import tensorflow as tf\n",
    "import numpy as np"
   ]
  },
  {
   "cell_type": "code",
   "execution_count": 9,
   "metadata": {
    "collapsed": true
   },
   "outputs": [],
   "source": [
    "class LinearModel(object):\n",
    "    def __init__(\n",
    "        self,\n",
    "        num_features,\n",
    "    ):\n",
    "        self.num_features = num_features\n",
    "        with tf.variable_scope(\n",
    "            'LinearModelParams',\n",
    "            reuse=False,\n",
    "            initializer=tf.random_uniform_initializer(\n",
    "                -1.0, 1.0\n",
    "            ),\n",
    "        ):\n",
    "            self.b0 = tf.get_variable(\n",
    "                'b0',\n",
    "                [],\n",
    "            )\n",
    "            self.b1 = tf.get_variable(\n",
    "                'b1',\n",
    "                [num_features],\n",
    "            )\n",
    "        self.saver = tf.train.Saver({\n",
    "            'b0': self.b0,\n",
    "            'b1': self.b1,\n",
    "        })\n",
    "        tf.summary.scalar('b0', self.b0)\n",
    "        tf.summary.histogram('b1', self.b1)\n",
    "    \n",
    "    def make_training_graph(\n",
    "        self,\n",
    "        batch_size,\n",
    "    ):\n",
    "        with tf.name_scope('placeholders'):\n",
    "            X_train = tf.placeholder(\n",
    "                shape=[batch_size, self.num_features],\n",
    "                name='X_train',\n",
    "                dtype=tf.float32,\n",
    "            )\n",
    "            y_train = tf.placeholder(\n",
    "                shape=[batch_size],\n",
    "                name='y_train',\n",
    "                dtype=tf.float32,\n",
    "            )\n",
    "        with tf.name_scope('model'):\n",
    "            predictions = tf.identity(\n",
    "                tf.squeeze(tf.matmul(X_train, tf.expand_dims(self.b1, 1))) + self.b0,\n",
    "                name='predictions',\n",
    "            )\n",
    "            residuals = tf.identity(\n",
    "                y_train - predictions,\n",
    "                name='residuals'\n",
    "            )\n",
    "            tf.summary.histogram('residuals', residuals)\n",
    "            loss = tf.reduce_mean(\n",
    "                tf.square(residuals),\n",
    "                name='loss',\n",
    "            )\n",
    "            tf.summary.scalar('loss', loss)\n",
    "        with tf.name_scope('train_ops'):\n",
    "            optimizer = tf.train.GradientDescentOptimizer(0.01)\n",
    "            train_op = optimizer.minimize(loss)\n",
    "        return {\n",
    "            'placeholders': {\n",
    "                'X_train': X_train,\n",
    "                'y_train': y_train,\n",
    "            },\n",
    "            'outputs': {\n",
    "                'predictions': predictions,\n",
    "                'residuals': residuals,\n",
    "                'loss': loss,\n",
    "            },\n",
    "            'train_ops': {\n",
    "                'train_op': train_op,\n",
    "                'summary': tf.summary.merge_all(),\n",
    "            }\n",
    "        }\n",
    "    \n",
    "    def save(\n",
    "        self,\n",
    "        sess,\n",
    "        path,\n",
    "    ):\n",
    "        self.saver.save(sess, path)\n",
    "\n",
    "    def restore(\n",
    "        self,\n",
    "        sess,\n",
    "        path,\n",
    "    ):\n",
    "        self.saver.restore(sess, path)"
   ]
  },
  {
   "cell_type": "code",
   "execution_count": 10,
   "metadata": {
    "collapsed": false
   },
   "outputs": [],
   "source": [
    "tf.reset_default_graph()\n",
    "lm = LinearModel(5)"
   ]
  },
  {
   "cell_type": "code",
   "execution_count": 11,
   "metadata": {
    "collapsed": false
   },
   "outputs": [],
   "source": [
    "graph = lm.make_training_graph(16)"
   ]
  },
  {
   "cell_type": "code",
   "execution_count": 12,
   "metadata": {
    "collapsed": false
   },
   "outputs": [
    {
     "data": {
      "text/plain": [
       "(0.5721726802941178,\n",
       " array([-0.23099213,  0.65407194, -0.56684004,  0.46271707,  0.95261418]))"
      ]
     },
     "execution_count": 12,
     "metadata": {},
     "output_type": "execute_result"
    }
   ],
   "source": [
    "Xtr = np.random.uniform(-10., 10., size=(16,5))\n",
    "true_values = np.random.uniform(-1., 1., size=(5,))\n",
    "true_bias = np.random.uniform(-1., 1.)\n",
    "ytr = np.random.uniform(-0.25, 0.25, size=(Xtr.shape[0],)) + np.dot(Xtr, true_values) + true_bias\n",
    "\n",
    "true_bias, true_values"
   ]
  },
  {
   "cell_type": "code",
   "execution_count": 13,
   "metadata": {
    "collapsed": false
   },
   "outputs": [
    {
     "name": "stdout",
     "output_type": "stream",
     "text": [
      "-0.422751\n",
      "[-0.46575141  0.39161229 -0.40420103  0.87393165 -0.29090929]\n"
     ]
    }
   ],
   "source": [
    "logdir = 'logs/{0:08X}'.format(np.random.randint(2**32))\n",
    "with tf.Session() as sess:\n",
    "    sess.run(tf.global_variables_initializer())\n",
    "    writer = tf.summary.FileWriter(logdir, sess.graph)\n",
    "    print(lm.b0.eval())\n",
    "    print(lm.b1.eval())\n",
    "    for i in range(100000):\n",
    "        outputs = sess.run(graph['train_ops'], feed_dict={\n",
    "            graph['placeholders']['X_train']: Xtr,\n",
    "            graph['placeholders']['y_train']: ytr,\n",
    "        })\n",
    "        writer.add_summary(outputs['summary'], i)\n",
    "    lm.save(sess, '{0}/model.ckpt'.format(logdir))"
   ]
  },
  {
   "cell_type": "code",
   "execution_count": 7,
   "metadata": {
    "collapsed": false
   },
   "outputs": [
    {
     "name": "stdout",
     "output_type": "stream",
     "text": [
      "INFO:tensorflow:Restoring parameters from logs/3DD28439/model.ckpt\n",
      "{'predictions': array([  2.53248596,  -8.86022854,   8.41758156,  -9.00340939,\n",
      "        -4.54157305,   3.40779209,  -2.74037886,  -8.44541168,\n",
      "        11.8639307 ,   1.12247264,  -3.21660566,   7.60387087,\n",
      "        13.67782211,  -9.36620617,   7.19500256,   6.12647295], dtype=float32), 'residuals': array([ 0.21096492, -0.03359222, -0.1590147 , -0.01538277, -0.09021139,\n",
      "       -0.13335085, -0.11556268,  0.05635548, -0.09206867, -0.14584553,\n",
      "        0.2226119 ,  0.21950436, -0.06024647, -0.05427647,  0.02450132,\n",
      "        0.16559029], dtype=float32), 'loss': 0.017230622, 'summary': b'\\n\\t\\n\\x02b0\\x15\\xba\\xb0\\x0c\\xbf\\n\\xd8\\x01\\n\\x02b1*\\xd1\\x01\\t\\x00\\x00\\x00\\x00\\xc0j\\xe9\\xbf\\x11\\x00\\x00\\x00\\x00\\xa2\\x1b\\xed?\\x19\\x00\\x00\\x00\\x00\\x00\\x00\\x14@!\\x00\\x00\\x00\\x00\\xf1\\xcc\\xd6\\xbf)H?e\\xd5\\xfa\\n\\xfc?2P\\x1e\\x8b\\x8e\\xe8\\xfb\\xae\\xea\\xbf2g\\xc7G\\xfcA\\xe8\\xbf\\xda^\\xbd\\xaeh\\xe5\\xd8\\xbf\\x97\\xca7\\x13\\x02\\xa2\\xd6\\xbf\\xcfCa\\xb4G\\x93\\xd4\\xbf\\x05\\xc7K\\x11?\\x1b\\xcc?\\xedZ\\xd3_\\xc5\\xea\\xce?\\x1e\\x8b\\x8e\\xe8\\xfb\\xae\\xea?\\x08\\x99i\\x19\\x15Z\\xed?\\xff\\xff\\xff\\xff\\xff\\xff\\xef\\x7f:P\\x00\\x00\\x00\\x00\\x00\\x00\\x00\\x00\\x00\\x00\\x00\\x00\\x00\\x00\\xf0?\\x00\\x00\\x00\\x00\\x00\\x00\\x00\\x00\\x00\\x00\\x00\\x00\\x00\\x00\\xf0?\\x00\\x00\\x00\\x00\\x00\\x00\\xf0?\\x00\\x00\\x00\\x00\\x00\\x00\\x00\\x00\\x00\\x00\\x00\\x00\\x00\\x00\\xf0?\\x00\\x00\\x00\\x00\\x00\\x00\\x00\\x00\\x00\\x00\\x00\\x00\\x00\\x00\\xf0?\\x00\\x00\\x00\\x00\\x00\\x00\\x00\\x00\\n\\xc9\\x03\\n\\x11model/residuals_1*\\xb3\\x03\\t\\x00\\x00\\x00\\x00\\x98Z\\xc4\\xbf\\x11\\x00\\x00\\x00\\x00\\x8c~\\xcc?\\x19\\x00\\x00\\x00\\x00\\x00\\x000@!\\x00\\x00\\x00\\x00\\x00\\xa0\\xf8\\xbe)\\x00\\x89\\xdb\\x87\\xe7\\xa4\\xd1?2\\xc0\\x01\\x0fyD$\\xe5\\x1d\\xc5\\xbf\\x82?>8s2\\xc3\\xbf\\xd3\\x968\\x90\\xaes\\xc1\\xbf!\\xb5\\xac\\xd7\\x0e\\xbb\\xbf\\xbf\\xa9\\xa4(!\\x99\\xd8\\xbc\\xbf8/\\x9aC\\xf9\\xd6\\xb7\\xbf\\x04\\x88\\x00l(\\xac\\xb5\\xbf\\xb5\\xef\\xf7\\xc3iH\\xb0\\xbfI\\x85\\xab\\xd8\\xee\\x9a\\xad\\xbf\\xfc\\xbe\\xe1g\\xf0\\xe9\\xaa\\xbf\\xcbuS\\xcd\\xeba\\xa2\\xbf\\xfe\\r\\x06/\\x1c\\xb6\\xa0\\xbf\\xea\\x06\\x1c\\xa0\\xb1&\\x91\\xbf\\xd7#\\xedh\\x14/\\x8f\\xbf\\xce\"\\x9eu\\x03\\xd4\\x96?}Y\\x944j\\x1c\\x99?\\xfc\\xbe\\xe1g\\xf0\\xe9\\xaa?I\\x85\\xab\\xd8\\xee\\x9a\\xad?\\x0fyD$\\xe5\\x1d\\xc5?\\xf7QK\\x0e|:\\xc7?\\x90@\\xb9\\x0f\"\\x8d\\xc9?\\x05\\xc7K\\x11?\\x1b\\xcc?\\xedZ\\xd3_\\xc5\\xea\\xce?\\xff\\xff\\xff\\xff\\xff\\xff\\xef\\x7f:\\xc0\\x01\\x00\\x00\\x00\\x00\\x00\\x00\\x00\\x00\\x00\\x00\\x00\\x00\\x00\\x00\\xf0?\\x00\\x00\\x00\\x00\\x00\\x00\\xf0?\\x00\\x00\\x00\\x00\\x00\\x00\\xf0?\\x00\\x00\\x00\\x00\\x00\\x00\\xf0?\\x00\\x00\\x00\\x00\\x00\\x00\\x00\\x00\\x00\\x00\\x00\\x00\\x00\\x00\\x00@\\x00\\x00\\x00\\x00\\x00\\x00\\x00\\x00\\x00\\x00\\x00\\x00\\x00\\x00\\xf0?\\x00\\x00\\x00\\x00\\x00\\x00\\xf0?\\x00\\x00\\x00\\x00\\x00\\x00\\x00\\x00\\x00\\x00\\x00\\x00\\x00\\x00\\xf0?\\x00\\x00\\x00\\x00\\x00\\x00\\x00\\x00\\x00\\x00\\x00\\x00\\x00\\x00\\xf0?\\x00\\x00\\x00\\x00\\x00\\x00\\x00\\x00\\x00\\x00\\x00\\x00\\x00\\x00\\xf0?\\x00\\x00\\x00\\x00\\x00\\x00\\x00\\x00\\x00\\x00\\x00\\x00\\x00\\x00\\xf0?\\x00\\x00\\x00\\x00\\x00\\x00\\x00\\x00\\x00\\x00\\x00\\x00\\x00\\x00\\xf0?\\x00\\x00\\x00\\x00\\x00\\x00\\x00\\x00\\x00\\x00\\x00\\x00\\x00\\x00\\x00@\\x00\\x00\\x00\\x00\\x00\\x00\\xf0?\\x00\\x00\\x00\\x00\\x00\\x00\\x00\\x00\\n\\x13\\n\\x0cmodel/loss_1\\x15<\\'\\x8d<'}\n",
      "-0.549572\n",
      "[-0.79428101  0.22588739  0.90962315 -0.34119233 -0.35629582]\n"
     ]
    }
   ],
   "source": [
    "with tf.Session() as sess:\n",
    "    lm.restore(sess, '{0}/model.ckpt'.format(logdir))\n",
    "    outputs = sess.run(graph['outputs'], feed_dict={\n",
    "        graph['placeholders']['X_train']: Xtr,\n",
    "        graph['placeholders']['y_train']: ytr,\n",
    "    })\n",
    "    print(outputs)\n",
    "    print(lm.b0.eval())\n",
    "    print(lm.b1.eval())"
   ]
  },
  {
   "cell_type": "code",
   "execution_count": null,
   "metadata": {
    "collapsed": true
   },
   "outputs": [],
   "source": []
  }
 ],
 "metadata": {
  "kernelspec": {
   "display_name": "Python 3",
   "language": "python",
   "name": "python3"
  },
  "language_info": {
   "codemirror_mode": {
    "name": "ipython",
    "version": 3
   },
   "file_extension": ".py",
   "mimetype": "text/x-python",
   "name": "python",
   "nbconvert_exporter": "python",
   "pygments_lexer": "ipython3",
   "version": "3.6.2"
  }
 },
 "nbformat": 4,
 "nbformat_minor": 2
}
